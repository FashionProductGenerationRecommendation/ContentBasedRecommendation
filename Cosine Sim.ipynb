{
 "cells": [
  {
   "cell_type": "code",
   "execution_count": 1,
   "metadata": {},
   "outputs": [
    {
     "name": "stderr",
     "output_type": "stream",
     "text": [
      "/home/rutvij/Spark_Installation/spark-3.0.0-preview2-bin-hadoop3.2/python/pyspark/context.py:219: DeprecationWarning: Support for Python 2 and Python 3 prior to version 3.6 is deprecated as of Spark 3.0. See also the plan for dropping Python 2 support at https://spark.apache.org/news/plan-for-dropping-python-2-support.html.\n",
      "  DeprecationWarning)\n"
     ]
    }
   ],
   "source": [
    "import findspark\n",
    "findspark.init()\n",
    "\n",
    "import json\n",
    "import re\n",
    "import numpy as np\n",
    "import math\n",
    "from pyspark import SparkContext\n",
    "from collections import Counter\n",
    "\n",
    "#trial\n",
    "from datetime import datetime\n",
    "start = datetime.now()\n",
    "sc = SparkContext()"
   ]
  },
  {
   "cell_type": "code",
   "execution_count": 11,
   "metadata": {},
   "outputs": [],
   "source": [
    "filename = \"dummy_data_v2.json\"\n",
    "rdd = sc.textFile(filename).map(lambda x: json.loads(x))"
   ]
  },
  {
   "cell_type": "code",
   "execution_count": 12,
   "metadata": {},
   "outputs": [],
   "source": [
    "# item_id, [(feature, value)]\n",
    "def convert(item_vector):\n",
    "\n",
    "    item_id = str(item_vector[\"ItemID\"])\n",
    "    features = []\n",
    "    \n",
    "    for feature, value in item_vector.items():\n",
    "        if feature == \"ItemID\":\n",
    "            continue\n",
    "        features.append((feature, value))\n",
    "        \n",
    "    return (item_id, features)\n",
    "\n",
    "\n",
    "rdd = rdd.map(lambda x: convert(x))\n"
   ]
  },
  {
   "cell_type": "code",
   "execution_count": null,
   "metadata": {},
   "outputs": [],
   "source": []
  },
  {
   "cell_type": "code",
   "execution_count": 13,
   "metadata": {},
   "outputs": [],
   "source": [
    "def normalize_vector(v):\n",
    "    item = v[0]\n",
    "    features = v[1]    \n",
    "    mean_rating = sum(map(lambda x: x[1], features)) / len(features)\n",
    "    normalized_vector = list(map(lambda x: (x[0], x[1] - mean_rating), features))\n",
    "    return (item, normalized_vector)\n",
    "normalized_rdd = rdd.map(lambda x: normalize_vector(x))"
   ]
  },
  {
   "cell_type": "code",
   "execution_count": null,
   "metadata": {},
   "outputs": [],
   "source": []
  },
  {
   "cell_type": "code",
   "execution_count": 14,
   "metadata": {},
   "outputs": [],
   "source": [
    "def get_mod(x):\n",
    "    item = x[0]\n",
    "    users = x[1]\n",
    "    mod = math.sqrt(sum(map(lambda x: x[1]**2, users)))\n",
    "    normalized_vector = list(map(lambda x: (x[0], x[1], mod), users))\n",
    "    return (item, normalized_vector)\n",
    "\n",
    "mod_rdd = rdd.map(lambda x: get_mod(x)).flatMapValues(lambda x: x).filter(lambda x: x[1][2] != 0)"
   ]
  },
  {
   "cell_type": "code",
   "execution_count": 41,
   "metadata": {},
   "outputs": [],
   "source": [
    "# mod_rdd.take(5)"
   ]
  },
  {
   "cell_type": "code",
   "execution_count": 23,
   "metadata": {},
   "outputs": [],
   "source": [
    "recommend_id = \"11\"\n",
    "recommend_id = sc.broadcast(recommend_id)\n",
    "a = mod_rdd.filter(lambda x: x[0] == recommend_id.value).map(lambda x: (x[1][0], (x[0], x[1][1], x[1][2])))"
   ]
  },
  {
   "cell_type": "code",
   "execution_count": 40,
   "metadata": {},
   "outputs": [],
   "source": [
    "# a.take(1)"
   ]
  },
  {
   "cell_type": "code",
   "execution_count": 25,
   "metadata": {},
   "outputs": [],
   "source": [
    "b = mod_rdd.filter(lambda x: x != recommend_id.value).map(lambda x: (x[1][0], (x[0], x[1][1], x[1][2])))"
   ]
  },
  {
   "cell_type": "code",
   "execution_count": 26,
   "metadata": {},
   "outputs": [],
   "source": [
    "def create_sim_tuples(x):\n",
    "    item1_vec = x[1][0]\n",
    "    item2_vec = x[1][1]\n",
    "    \n",
    "    item1 = item1_vec[0]\n",
    "    item2 = item2_vec[0]\n",
    "    \n",
    "    item1_val = item1_vec[1]\n",
    "    item2_val = item2_vec[1]\n",
    "    \n",
    "    item1_mod = item1_vec[2]\n",
    "    item2_mod = item2_vec[2]\n",
    "    \n",
    "    product = item1_val * item2_val\n",
    "    \n",
    "    return ((item1, item2), (product, item1_mod, item2_mod, 1, 1))\n",
    "    \n",
    "c = a.join(b).filter(lambda x: x[1][0][0] != x[1][1][0]).map(lambda x: create_sim_tuples(x))"
   ]
  },
  {
   "cell_type": "code",
   "execution_count": null,
   "metadata": {},
   "outputs": [],
   "source": []
  },
  {
   "cell_type": "code",
   "execution_count": 73,
   "metadata": {},
   "outputs": [],
   "source": [
    "# c.count()"
   ]
  },
  {
   "cell_type": "code",
   "execution_count": 37,
   "metadata": {},
   "outputs": [],
   "source": [
    "def reduce_sim(x,y):\n",
    "    sim_productx, mod1, mod2, countx, simx = x\n",
    "    sim_producty, mod1, mod2, county, simy = y\n",
    "    \n",
    "    sim_product = sim_productx + sim_producty\n",
    "    count = countx + county\n",
    "    sim = 1\n",
    "    \n",
    "    return (sim_product, mod1, mod2, count, sim)\n",
    "\n",
    "# final map after map-reduce to calculate similarity\n",
    "def calculate_sim(x):\n",
    "    item1, item2 = x[0]\n",
    "    sim_product, mod1, mod2, count, sim = x[1]\n",
    "    \n",
    "    sim = sim_product / (mod1 * mod2) \n",
    "    return (item1, (item2, sim))\n",
    "    if count >= 2 and sim > 0:\n",
    "        return (item1, (item2, sim))\n",
    "    else:\n",
    "        return None\n",
    "\n",
    "sim_matrix = c.reduceByKey(lambda x,y: reduce_sim(x,y)).map(lambda x: calculate_sim(x)).top(5, lambda x: x[1][1])"
   ]
  },
  {
   "cell_type": "code",
   "execution_count": 39,
   "metadata": {},
   "outputs": [
    {
     "data": {
      "text/plain": [
       "[('11', ('33273', 1.0)),\n",
       " ('11', ('30756', 0.9999999991307578)),\n",
       " ('11', ('1223', 0.999999996522696)),\n",
       " ('11', ('8639', 0.9999999953988629)),\n",
       " ('11', ('11294', 0.9999999953988629))]"
      ]
     },
     "execution_count": 39,
     "metadata": {},
     "output_type": "execute_result"
    }
   ],
   "source": [
    "# sim_matrix.take(2)\n",
    "sim_matrix"
   ]
  },
  {
   "cell_type": "code",
   "execution_count": null,
   "metadata": {},
   "outputs": [],
   "source": []
  }
 ],
 "metadata": {
  "kernelspec": {
   "display_name": "bda1",
   "language": "python",
   "name": "bda1"
  },
  "language_info": {
   "codemirror_mode": {
    "name": "ipython",
    "version": 3
   },
   "file_extension": ".py",
   "mimetype": "text/x-python",
   "name": "python",
   "nbconvert_exporter": "python",
   "pygments_lexer": "ipython3",
   "version": "3.5.2"
  }
 },
 "nbformat": 4,
 "nbformat_minor": 2
}
