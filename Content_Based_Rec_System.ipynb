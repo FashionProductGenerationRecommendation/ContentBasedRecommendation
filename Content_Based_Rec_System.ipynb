{
 "cells": [
  {
   "cell_type": "code",
   "execution_count": 1,
   "metadata": {},
   "outputs": [
    {
     "name": "stderr",
     "output_type": "stream",
     "text": [
      "/home/rutvij/Spark_Installation/spark-3.0.0-preview2-bin-hadoop3.2/python/pyspark/context.py:219: DeprecationWarning: Support for Python 2 and Python 3 prior to version 3.6 is deprecated as of Spark 3.0. See also the plan for dropping Python 2 support at https://spark.apache.org/news/plan-for-dropping-python-2-support.html.\n",
      "  DeprecationWarning)\n"
     ]
    }
   ],
   "source": [
    "import findspark\n",
    "findspark.init()\n",
    "\n",
    "import json\n",
    "import re\n",
    "import numpy as np\n",
    "import math\n",
    "from pyspark import SparkContext\n",
    "from collections import Counter\n",
    "\n",
    "#trial\n",
    "from datetime import datetime\n",
    "start = datetime.now()\n",
    "sc = SparkContext()"
   ]
  },
  {
   "cell_type": "code",
   "execution_count": 2,
   "metadata": {},
   "outputs": [],
   "source": [
    "user_id = 50"
   ]
  },
  {
   "cell_type": "code",
   "execution_count": 20,
   "metadata": {},
   "outputs": [],
   "source": [
    "# reading user vectors\n",
    "import pickle\n",
    "filename = \"item_user_rating.json\"\n",
    "with open(filename, 'rb') as fp:\n",
    "    r = pickle.load(fp)\n",
    "user_item_rating = sc.parallelize(r).filter(lambda x: x[0][0] == user_id)"
   ]
  },
  {
   "cell_type": "code",
   "execution_count": 68,
   "metadata": {},
   "outputs": [],
   "source": [
    "# storing items of user_id in broadcast variable\n",
    "user_id_items = sc.broadcast(set(user_item_rating.map(lambda x: x[0][1]).collect()))\n",
    "# user_item_rating.take(1)"
   ]
  },
  {
   "cell_type": "code",
   "execution_count": null,
   "metadata": {},
   "outputs": [],
   "source": []
  },
  {
   "cell_type": "code",
   "execution_count": 5,
   "metadata": {},
   "outputs": [],
   "source": [
    "# reading item vectos\n",
    "filename = \"dummy_data_v2.json\"\n",
    "\n",
    "def convert(item_vector):\n",
    "\n",
    "    item_id = item_vector[\"ItemID\"]\n",
    "    features = []\n",
    "    \n",
    "    for feature, value in item_vector.items():\n",
    "        if feature == \"ItemID\":\n",
    "            continue\n",
    "        features.append((feature, value))\n",
    "        \n",
    "    return (item_id, features)\n",
    "\n",
    "rdd = sc.textFile(filename).map(lambda x: json.loads(x)).map(lambda x: convert(x))"
   ]
  },
  {
   "cell_type": "code",
   "execution_count": 43,
   "metadata": {},
   "outputs": [],
   "source": [
    "# normalize item vectors\n",
    "def normalize_vector(v):\n",
    "#     item = v[0]\n",
    "#     features = v[1]    \n",
    "#     mean_rating = sum(map(lambda x: x[1], features)) / len(features)\n",
    "#     normalized_vector = list(map(lambda x: (x[0], x[1] - mean_rating), features))\n",
    "    \n",
    "    item = v[0]\n",
    "    features = v[1]    \n",
    "    mean_rating = sum(map(lambda x: x[1], features)) / len(features)\n",
    "    normalized_vector = list(map(lambda x: (x[0], x[1] / mean_rating), features))\n",
    "    \n",
    "    return (item, normalized_vector)\n",
    "normalized_rdd = rdd.map(lambda x: normalize_vector(x)).flatMapValues(list)\n",
    "# o/p -> (item, (feature, rating))"
   ]
  },
  {
   "cell_type": "code",
   "execution_count": 44,
   "metadata": {},
   "outputs": [
    {
     "data": {
      "text/plain": [
       "[((50, 9793), 3)]"
      ]
     },
     "execution_count": 44,
     "metadata": {},
     "output_type": "execute_result"
    }
   ],
   "source": [
    "user_item_rating.take(1)"
   ]
  },
  {
   "cell_type": "code",
   "execution_count": 45,
   "metadata": {},
   "outputs": [
    {
     "data": {
      "text/plain": [
       "[(1, ('myntraRating', 0.0015706173734444846))]"
      ]
     },
     "execution_count": 45,
     "metadata": {},
     "output_type": "execute_result"
    }
   ],
   "source": [
    "normalized_rdd.take(1)"
   ]
  },
  {
   "cell_type": "code",
   "execution_count": 46,
   "metadata": {},
   "outputs": [
    {
     "data": {
      "text/plain": [
       "[(9793, (50, 3))]"
      ]
     },
     "execution_count": 46,
     "metadata": {},
     "output_type": "execute_result"
    }
   ],
   "source": [
    "item_user_rating = user_item_rating.map(lambda x: (x[0][1], (x[0][0], x[1])))\n",
    "item_user_rating.take(1)\n",
    "# o/p -> (item, (user, rating))"
   ]
  },
  {
   "cell_type": "code",
   "execution_count": 47,
   "metadata": {},
   "outputs": [
    {
     "data": {
      "text/plain": [
       "[(8610, (('myntraRating', 0.0), (50, 2)))]"
      ]
     },
     "execution_count": 47,
     "metadata": {},
     "output_type": "execute_result"
    }
   ],
   "source": [
    "joined_rdd = normalized_rdd.join(item_user_rating)\n",
    "joined_rdd.take(1)\n",
    "# o/p -> (item, ((feature, value), (user, rating)))"
   ]
  },
  {
   "cell_type": "code",
   "execution_count": 48,
   "metadata": {},
   "outputs": [
    {
     "data": {
      "text/plain": [
       "[('myntraRating', (8610, 50, 0.0))]"
      ]
     },
     "execution_count": 48,
     "metadata": {},
     "output_type": "execute_result"
    }
   ],
   "source": [
    "new_joined = joined_rdd.map(lambda x: (x[1][0][0], (x[0], x[1][1][0], x[1][0][1] * x[1][1][1])))\n",
    "new_joined.take(1)"
   ]
  },
  {
   "cell_type": "code",
   "execution_count": 73,
   "metadata": {},
   "outputs": [
    {
     "data": {
      "text/plain": [
       "[('usage', (50, 0.0))]"
      ]
     },
     "execution_count": 73,
     "metadata": {},
     "output_type": "execute_result"
    }
   ],
   "source": [
    "new_joined_r = new_joined.reduceByKey(lambda x, y: (x[0], x[1], x[2] * y[2])).map(lambda x: (x[0], (x[1][1], x[1][2])))\n",
    "new_joined_r.take(1)"
   ]
  },
  {
   "cell_type": "code",
   "execution_count": 65,
   "metadata": {},
   "outputs": [
    {
     "data": {
      "text/plain": [
       "13"
      ]
     },
     "execution_count": 65,
     "metadata": {},
     "output_type": "execute_result"
    }
   ],
   "source": [
    "new_joined_r.count()"
   ]
  },
  {
   "cell_type": "code",
   "execution_count": 69,
   "metadata": {},
   "outputs": [],
   "source": [
    "item_ratings = normalized_rdd.filter(lambda x: x[0] not in user_id_items.value)\\\n",
    "                                .map(lambda x: (x[1][0], (x[0], x[1][1])))\n",
    "                                "
   ]
  },
  {
   "cell_type": "code",
   "execution_count": 75,
   "metadata": {},
   "outputs": [
    {
     "data": {
      "text/plain": [
       "[('myntraRating', (1, 0.0015706173734444846)),\n",
       " ('productDisplayName', (1, 11.189078168418508)),\n",
       " ('discountedPrice', (1, 1.0350368490999153)),\n",
       " ('gender', (1, 0.003141234746888969)),\n",
       " ('baseColour', (1, 0.014135556361000362)),\n",
       " ('season', (1, 0.003141234746888969)),\n",
       " ('brandName', (1, 0.19004470218678263)),\n",
       " ('year', (1, 0.007853086867222423)),\n",
       " ('usage', (1, 0.0015706173734444846)),\n",
       " ('productTypeId', (1, 0.04711852120333454)),\n",
       " ('price', (1, 0.49160323788812366)),\n",
       " ('styleType', (1, 0.014135556361000362)),\n",
       " ('fashionType', (1, 0.0015706173734444846)),\n",
       " ('myntraRating', (2, 0.0)),\n",
       " ('productDisplayName', (2, 12.46316283435007))]"
      ]
     },
     "execution_count": 75,
     "metadata": {},
     "output_type": "execute_result"
    }
   ],
   "source": [
    "item_ratings.take(15)"
   ]
  },
  {
   "cell_type": "code",
   "execution_count": 76,
   "metadata": {},
   "outputs": [],
   "source": [
    "rec_join = item_ratings.join(new_joined_r)"
   ]
  },
  {
   "cell_type": "code",
   "execution_count": 77,
   "metadata": {},
   "outputs": [
    {
     "data": {
      "text/plain": [
       "[('styleType', ((1, 0.014135556361000362), (50, 2.425951264341751e-247)))]"
      ]
     },
     "execution_count": 77,
     "metadata": {},
     "output_type": "execute_result"
    }
   ],
   "source": [
    "rec_join.take(1)"
   ]
  },
  {
   "cell_type": "code",
   "execution_count": 80,
   "metadata": {},
   "outputs": [
    {
     "data": {
      "text/plain": [
       "[((50, 14175), 7.985869503227364e+224),\n",
       " ((50, 22393), 7.98553153083483e+224),\n",
       " ((50, 37904), 7.984831626193657e+224),\n",
       " ((50, 25620), 7.982062410487253e+224),\n",
       " ((50, 32034), 7.977555967448369e+224),\n",
       " ((50, 29057), 7.974673163943141e+224),\n",
       " ((50, 3244), 7.967290273192288e+224),\n",
       " ((50, 2888), 7.965397795584064e+224),\n",
       " ((50, 28287), 7.96503370730799e+224),\n",
       " ((50, 25291), 7.96503370730799e+224)]"
      ]
     },
     "execution_count": 80,
     "metadata": {},
     "output_type": "execute_result"
    }
   ],
   "source": [
    "rec_join.map(lambda x: ((x[1][1][0], x[1][0][0]), (x[1][0][1] * x[1][1][1]))).reduceByKey(lambda x,y: x + y).top(10, lambda x: x[1])"
   ]
  },
  {
   "cell_type": "code",
   "execution_count": 81,
   "metadata": {},
   "outputs": [
    {
     "data": {
      "text/plain": [
       "False"
      ]
     },
     "execution_count": 81,
     "metadata": {},
     "output_type": "execute_result"
    }
   ],
   "source": [
    "14175 in user_id_items.value"
   ]
  },
  {
   "cell_type": "code",
   "execution_count": null,
   "metadata": {},
   "outputs": [],
   "source": []
  }
 ],
 "metadata": {
  "kernelspec": {
   "display_name": "bda1",
   "language": "python",
   "name": "bda1"
  },
  "language_info": {
   "codemirror_mode": {
    "name": "ipython",
    "version": 3
   },
   "file_extension": ".py",
   "mimetype": "text/x-python",
   "name": "python",
   "nbconvert_exporter": "python",
   "pygments_lexer": "ipython3",
   "version": "3.5.2"
  }
 },
 "nbformat": 4,
 "nbformat_minor": 2
}
