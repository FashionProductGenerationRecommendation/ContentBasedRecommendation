{
 "cells": [
  {
   "cell_type": "code",
   "execution_count": 1,
   "metadata": {},
   "outputs": [
    {
     "name": "stderr",
     "output_type": "stream",
     "text": [
      "/home/rutvij/Spark_Installation/spark-3.0.0-preview2-bin-hadoop3.2/python/pyspark/context.py:219: DeprecationWarning: Support for Python 2 and Python 3 prior to version 3.6 is deprecated as of Spark 3.0. See also the plan for dropping Python 2 support at https://spark.apache.org/news/plan-for-dropping-python-2-support.html.\n",
      "  DeprecationWarning)\n"
     ]
    }
   ],
   "source": [
    "import findspark\n",
    "findspark.init()\n",
    "\n",
    "import json\n",
    "import re\n",
    "import numpy as np\n",
    "import math\n",
    "from pyspark import SparkContext\n",
    "from collections import Counter\n",
    "\n",
    "#trial\n",
    "from datetime import datetime\n",
    "start = datetime.now()\n",
    "sc = SparkContext()"
   ]
  },
  {
   "cell_type": "code",
   "execution_count": 73,
   "metadata": {},
   "outputs": [
    {
     "data": {
      "text/plain": [
       "PythonRDD[255] at RDD at PythonRDD.scala:53"
      ]
     },
     "execution_count": 73,
     "metadata": {},
     "output_type": "execute_result"
    }
   ],
   "source": [
    "a1 = sc.parallelize([(1,2),(1,3),(2,4)])\n",
    "b1 = sc.parallelize([(1,22),(2,33)])\n",
    "c = a1.join(b1)\n",
    "c.persist()"
   ]
  },
  {
   "cell_type": "code",
   "execution_count": 74,
   "metadata": {},
   "outputs": [
    {
     "data": {
      "text/plain": [
       "[(1, (2, 22))]"
      ]
     },
     "execution_count": 74,
     "metadata": {},
     "output_type": "execute_result"
    }
   ],
   "source": [
    "c.take(1)"
   ]
  },
  {
   "cell_type": "code",
   "execution_count": 9,
   "metadata": {},
   "outputs": [],
   "source": [
    "def filter_json(line):\n",
    "    keys = [\"overall\", \"reviewerID\", \"asin\", \"reviewText\", \"summary\", \"verified\", \"unixReviewTime\"]\n",
    "    for key in keys:\n",
    "        if key not in line:\n",
    "            return False\n",
    "    return True\n",
    "\n",
    "def map_utility(x):\n",
    "    rating = x[\"overall\"]\n",
    "    user = x[\"reviewerID\"]\n",
    "    item = x[\"asin\"]\n",
    "    time = x[\"unixReviewTime\"]\n",
    "\n",
    "    return ((item, user), (rating, time))\n",
    "\n",
    "def reduce_utility(x, y):\n",
    "    rating1, time1 = x\n",
    "    rating2, time2 = y\n",
    "\n",
    "    if time1 > time2:\n",
    "        return (rating1, time1)\n",
    "\n",
    "    return (rating2, time2)\n",
    "\n",
    "def get_mod(x):\n",
    "    item = x[0]\n",
    "    users = x[1]\n",
    "    mod = math.sqrt(sum(map(lambda x: x[1]**2, users)))\n",
    "    normalized_vector = list(map(lambda x: (x[0], x[1], mod), users))\n",
    "    return (item, normalized_vector)\n",
    "\n",
    "def normalize_vector(v):\n",
    "    item = v[0]\n",
    "    users = v[1]    \n",
    "    mean_rating = sum(map(lambda x: x[1], users)) / len(users)\n",
    "    normalized_vector = list(map(lambda x: (x[0], x[1] - mean_rating), users))\n",
    "#     vector_mod = math.sqrt(sum(map(lambda x: x[1]**2, normalized_vector)))\n",
    "    return (item, normalized_vector)\n",
    "    \n",
    "filename = \"Software_5.json.gz\"\n",
    "rdd = sc.textFile(filename).map(lambda x: json.loads(x)).filter(lambda x: filter_json(x))\n",
    "products_to_recommend = sc.broadcast([\"B00EZPXYP4\", \"B00CTTEKJW\"])\n",
    "utility_matrix = rdd.map(lambda x: map_utility(x)).reduceByKey(lambda x,y: reduce_utility(x, y))\\\n",
    "                    .map(lambda x: (x[0][0], (x[0][1], x[1][0]))).groupByKey().filter(lambda x: len(x[1]) >= 25)\\\n",
    "                    .flatMapValues(lambda x: x)\\\n",
    "                    .map(lambda x: (x[1][0], (x[0], x[1][1]))).groupByKey().filter(lambda x: len(x[1]) >= 5)\\\n",
    "                    .flatMapValues(lambda x: x)\\\n",
    "                    .map(lambda x: (x[1][0], (x[0], x[1][1]))).groupByKey()\n",
    "\n",
    "\n",
    "\n",
    "normalized_utility_matrix_flat = utility_matrix.map(lambda x: normalize_vector(x)).map(lambda x: get_mod(x))\\\n",
    "                    .flatMapValues(lambda x: x).filter(lambda x: x[1][2] != 0)"
   ]
  },
  {
   "cell_type": "code",
   "execution_count": 10,
   "metadata": {},
   "outputs": [
    {
     "data": {
      "text/plain": [
       "90"
      ]
     },
     "execution_count": 10,
     "metadata": {},
     "output_type": "execute_result"
    }
   ],
   "source": [
    "utility_matrix.count()"
   ]
  },
  {
   "cell_type": "code",
   "execution_count": 4,
   "metadata": {},
   "outputs": [
    {
     "data": {
      "text/plain": [
       "[('A1NA2JGI3GNDN2', 3.0),\n",
       " ('AEQYAG42F9128', 5.0),\n",
       " ('A37SGUQGIDFOKK', 5.0),\n",
       " ('A1PI8VBCXXSGC7', 4.0)]"
      ]
     },
     "execution_count": 4,
     "metadata": {},
     "output_type": "execute_result"
    }
   ],
   "source": [
    "list(utility_matrix.take(1)[0][1])"
   ]
  },
  {
   "cell_type": "code",
   "execution_count": 5,
   "metadata": {},
   "outputs": [],
   "source": [
    "# utility_matrix = rdd.map(lambda x: map_utility(x)).reduceByKey(lambda x,y: reduce_utility(x, y))\\\n",
    "#                     \\\n",
    "#                     .map(lambda x: (x[0][0], ([(x[0][1], x[1][0])])))\\\n",
    "#                     .reduceByKey(lambda x,y: (x + y))\\\n",
    "#                     \\\n",
    "#                     .filter(lambda x: len(x[1]) >= 25)\\\n",
    "#                     .flatMapValues(lambda x: x)\\\n",
    "#                     \\\n",
    "#                     .map(lambda x: (x[1][0], ([(x[0], x[1][1])])))\\\n",
    "#                     .reduceByKey(lambda x,y: (x + y))\\\n",
    "#                     \\\n",
    "#                     .filter(lambda x: len(x[1]) >= 5)\\\n",
    "#                     .flatMapValues(lambda x: x)\\\n",
    "#                     .map(lambda x: (x[1][0], [(x[0], x[1][1])]))\\\n",
    "#                     .reduceByKey(lambda x,y: (x + y))\n",
    "\n",
    "# utility_matrix = rdd.map(lambda x: map_utility(x)).reduceByKey(lambda x,y: reduce_utility(x, y))\\\n",
    "#                     .map(lambda x: (x[0][0], (x[0][1], x[1][0]))).groupByKey().filter(lambda x: len(x[1]) >= 25)\\\n",
    "#                     .flatMapValues(lambda x: x)\\\n",
    "#                     .map(lambda x: (x[1][0], (x[0], x[1][1]))).groupByKey().filter(lambda x: len(x[1]) >= 5)\\\n",
    "#                     .flatMapValues(lambda x: x)\\\n",
    "#                     .map(lambda x: (x[1][0], (x[0], x[1][1]))).groupByKey()\n",
    "\n",
    "# normalized_utility_matrix_flat = utility_matrix.map(lambda x: normalize_vector(x)).map(lambda x: get_mod(x))\\\n",
    "#                     .flatMapValues(lambda x: x).filter(lambda x: x[1][2] != 0)"
   ]
  },
  {
   "cell_type": "code",
   "execution_count": 37,
   "metadata": {},
   "outputs": [],
   "source": [
    "# # trial cell\n",
    "# utility_matrix = rdd.map(lambda x: map_utility(x)).reduceByKey(lambda x,y: reduce_utility(x, y))\\\n",
    "#                     .map(lambda x: (x[0][0], (x[0][1], x[1][0]))).groupByKey().filter(lambda x: len(x[1]) >= 25)\\\n",
    "#                     .flatMapValues(lambda x: x)\\\n",
    "#                     .map(lambda x: (x[1][0], (x[0], x[1][1]))).groupByKey()#.filter(lambda x: len(x[1]) >= 5)\\\n",
    "# #                     .flatMapValues(lambda x: x)\\\n",
    "# #                     .map(lambda x: (x[1][0], (x[0], x[1][1]))).groupByKey()"
   ]
  },
  {
   "cell_type": "code",
   "execution_count": 4,
   "metadata": {},
   "outputs": [
    {
     "data": {
      "text/plain": [
       "[('B00EZPXVWU', <pyspark.resultiterable.ResultIterable at 0x7fc374ecb2b0>)]"
      ]
     },
     "execution_count": 4,
     "metadata": {},
     "output_type": "execute_result"
    }
   ],
   "source": [
    "utility_matrix.take(1)"
   ]
  },
  {
   "cell_type": "code",
   "execution_count": 5,
   "metadata": {},
   "outputs": [
    {
     "data": {
      "text/plain": [
       "[('B00EZPXVWU', ('A1NA2JGI3GNDN2', -1.25, 1.6583123951777)),\n",
       " ('B00EZPXVWU', ('AEQYAG42F9128', 0.75, 1.6583123951777)),\n",
       " ('B00EZPXVWU', ('A37SGUQGIDFOKK', 0.75, 1.6583123951777)),\n",
       " ('B00EZPXVWU', ('A1PI8VBCXXSGC7', -0.25, 1.6583123951777)),\n",
       " ('B00F8K9L66', ('A3935GZFLPU28D', -0.7777777777777777, 3.6817870057290873)),\n",
       " ('B00F8K9L66', ('A38OWWKAEJ15AI', 0.22222222222222232, 3.6817870057290873)),\n",
       " ('B00F8K9L66', ('A1PKJZRM97ELT8', -2.7777777777777777, 3.6817870057290873)),\n",
       " ('B00F8K9L66', ('A2HIY3RMCFY2IR', -0.7777777777777777, 3.6817870057290873)),\n",
       " ('B00F8K9L66', ('A1V3PCKVCJ3TTZ', 1.2222222222222223, 3.6817870057290873)),\n",
       " ('B00F8K9L66', ('A1T1YSCDW0PD25', 0.22222222222222232, 3.6817870057290873))]"
      ]
     },
     "execution_count": 5,
     "metadata": {},
     "output_type": "execute_result"
    }
   ],
   "source": [
    "normalized_utility_matrix_flat.take(10)"
   ]
  },
  {
   "cell_type": "code",
   "execution_count": null,
   "metadata": {},
   "outputs": [],
   "source": []
  },
  {
   "cell_type": "code",
   "execution_count": 71,
   "metadata": {},
   "outputs": [],
   "source": [
    "# normalized_utility_matrix_flat.take(1)\n",
    "# Output -> (item , [(user, rating, mod),   ,   ,])"
   ]
  },
  {
   "cell_type": "code",
   "execution_count": 6,
   "metadata": {},
   "outputs": [
    {
     "data": {
      "text/plain": [
       "[('B00EZPXYP4', ('A1GGXJZOI5GEAQ', 0.7777777777777777, 6.218252702059208))]"
      ]
     },
     "execution_count": 6,
     "metadata": {},
     "output_type": "execute_result"
    }
   ],
   "source": [
    "recommend_vectors_rdd = normalized_utility_matrix_flat.filter(lambda x: x[0] in products_to_recommend.value)\n",
    "recommend_vectors_rdd.take(1)"
   ]
  },
  {
   "cell_type": "code",
   "execution_count": 14,
   "metadata": {},
   "outputs": [
    {
     "data": {
      "text/plain": [
       "[('A1GGXJZOI5GEAQ', ('B00EZPXYP4', 0.7777777777777777, 6.218252702059208))]"
      ]
     },
     "execution_count": 14,
     "metadata": {},
     "output_type": "execute_result"
    }
   ],
   "source": [
    "#trial cell\n",
    "a = recommend_vectors_rdd.map(lambda x: (x[1][0], (x[0], x[1][1], x[1][2])))\n",
    "a.take(1)"
   ]
  },
  {
   "cell_type": "code",
   "execution_count": 15,
   "metadata": {},
   "outputs": [
    {
     "data": {
      "text/plain": [
       "[('A1NA2JGI3GNDN2', ('B00EZPXVWU', -1.25, 1.6583123951777))]"
      ]
     },
     "execution_count": 15,
     "metadata": {},
     "output_type": "execute_result"
    }
   ],
   "source": [
    "#trial cell\n",
    "b = normalized_utility_matrix_flat.map(lambda x: (x[1][0], (x[0], x[1][1], x[1][2])))\n",
    "b.take(1)"
   ]
  },
  {
   "cell_type": "code",
   "execution_count": 20,
   "metadata": {},
   "outputs": [
    {
     "data": {
      "text/plain": [
       "[(('B00EZPXYP4', 'B00EDSI7QO'),\n",
       "  (-3.611111111111111, 6.218252702059208, 4.227883631321941, 1, 1)),\n",
       " (('B00EZPXYP4', 'B00FFINOWS'),\n",
       "  (0.952380952380953, 6.218252702059208, 3.927922024247864, 1, 1))]"
      ]
     },
     "execution_count": 20,
     "metadata": {},
     "output_type": "execute_result"
    }
   ],
   "source": [
    "#trial cell\n",
    "def create_sim_tuples(x):\n",
    "    item1_vec = x[1][0]\n",
    "    item2_vec = x[1][1]\n",
    "    \n",
    "    item1 = item1_vec[0]\n",
    "    item2 = item2_vec[0]\n",
    "    \n",
    "    item1_val = item1_vec[1]\n",
    "    item2_val = item2_vec[1]\n",
    "    \n",
    "    item1_mod = item1_vec[2]\n",
    "    item2_mod = item2_vec[2]\n",
    "    \n",
    "    product = item1_val * item2_val\n",
    "    \n",
    "    return ((item1, item2), (product, item1_mod, item2_mod, 1, 1))\n",
    "    \n",
    "    ((x[1][0][0], x[1][1][0]), ())\n",
    "c = a.join(b).filter(lambda x: x[1][0][0] != x[1][1][0]).map(lambda x: create_sim_tuples(x))\n",
    "for l in tup.groupByKey().take(5):\n",
    "    print(l[0],list(l[1]))"
   ]
  },
  {
   "cell_type": "code",
   "execution_count": null,
   "metadata": {},
   "outputs": [],
   "source": [
    "#trial cell"
   ]
  },
  {
   "cell_type": "code",
   "execution_count": 7,
   "metadata": {},
   "outputs": [
    {
     "data": {
      "text/plain": [
       "[(('B00EZPXYP4', ('A1GGXJZOI5GEAQ', 0.7777777777777777, 6.218252702059208)),\n",
       "  ('B00UB76290', ('A1GGXJZOI5GEAQ', 0.22222222222222232, 1.247219128924647))),\n",
       " (('B00EZPXYP4', ('A1GGXJZOI5GEAQ', 0.7777777777777777, 6.218252702059208)),\n",
       "  ('B00NG7JVSQ', ('A1GGXJZOI5GEAQ', 1.3333333333333335, 7.348469228349535)))]"
      ]
     },
     "execution_count": 7,
     "metadata": {},
     "output_type": "execute_result"
    }
   ],
   "source": [
    "cross_product = recommend_vectors_rdd.cartesian(normalized_utility_matrix_flat).filter(lambda x: x[0][1][0] == x[1][1][0] and x[0][0] != x[1][0])\n",
    "cross_product.take(2)"
   ]
  },
  {
   "cell_type": "code",
   "execution_count": 19,
   "metadata": {},
   "outputs": [],
   "source": [
    "# tup = cross_product.map(lambda x: (((x[0][0],x[1][0]), (x[0][1][1]*x[1][1][1],x[0][1][1]**2,x[1][1][1]**2,1,1)))).filter(lambda x: x[0][0] == \"B00EZPXYP4\" and x[0][1] == \"B00FFINOWS\")\n",
    "# for l in tup.groupByKey().take(5):\n",
    "#     print(l[0],list(l[1]))"
   ]
  },
  {
   "cell_type": "code",
   "execution_count": 8,
   "metadata": {},
   "outputs": [
    {
     "data": {
      "text/plain": [
       "[(('B00EZPXYP4', 'B00UB76290'),\n",
       "  (0.17283950617283955, 6.218252702059208, 1.247219128924647, 1, 1)),\n",
       " (('B00EZPXYP4', 'B00NG7JVSQ'),\n",
       "  (1.037037037037037, 6.218252702059208, 7.348469228349535, 1, 1))]"
      ]
     },
     "execution_count": 8,
     "metadata": {},
     "output_type": "execute_result"
    }
   ],
   "source": [
    "tup = cross_product.map(lambda x: (((x[0][0],x[1][0]), (x[0][1][1]*x[1][1][1], x[0][1][2], x[1][1][2],1,1))))\n",
    "# for l in tup.groupByKey().take(5):\n",
    "#     print(l[0],list(l[1]))\n",
    "tup.take(2)"
   ]
  },
  {
   "cell_type": "code",
   "execution_count": 12,
   "metadata": {},
   "outputs": [
    {
     "name": "stdout",
     "output_type": "stream",
     "text": [
      "32\n",
      "{('B00CTTEKJW', 'B015724OVG'): 0.08786403697621588, ('B00CTTEKJW', 'B008H3SW4I'): 0.11702173864119117, ('B00EZPXYP4', 'B00L13X6QA'): 0.3623084906684938, ('B00EZPXYP4', 'B00NG7JVSQ'): 0.012968536578738048, ('B00CTTEKJW', 'B00LC9UU6C'): 0.18770106628608016, ('B00EZPXYP4', 'B01617VQJ4'): 0.06195886427355627, ('B00EZPXYP4', 'B00EZPXVWU'): 0.11313893217116631, ('B00EZPXYP4', 'B009CCVMO0'): 0.037110601846068736, ('B00EZPXYP4', 'B00CTTEKJW'): 0.25992720982844647, ('B00EZPXYP4', 'B00MYXTCIM'): 0.1551503078860474, ('B00EZPXYP4', 'B015724OVG'): 0.41889716151080586, ('B00CTTEKJW', 'B00L13X6QA'): 0.3691293578017552, ('B00EZPXYP4', 'B00UB76290'): 0.038204550337416876, ('B00EZPXYP4', 'B00FFINOWS'): 0.06108802425583156, ('B00CTTEKJW', 'B00MHZ6Z64'): 0.01151531788397014, ('B00EZPXYP4', 'B0144NYEY6'): 0.050143472317859636, ('B00EZPXYP4', 'B0144NYGJY'): 0.06089672753656496, ('B00CTTEKJW', 'B004E9SKFA'): 0.005946484585453418, ('B00EZPXYP4', 'B00F8K9MZQ'): 0.09305431895263723, ('B00EZPXYP4', 'B00LC9UU6C'): 0.16863104158791353, ('B00EZPXYP4', 'B004IKEKWC'): 0.4169539239683972, ('B00CTTEKJW', 'B00EZPXYP4'): 0.25992720982844647, ('B00EZPXYP4', 'B008H3SW4I'): 0.0744210205952916, ('B00EZPXYP4', 'B00MV9EL6M'): 0.042902015995587135, ('B00CTTEKJW', 'B010P91LYY'): 0.06967435729055046, ('B00EZPXYP4', 'B00F8K9L66'): 0.18981503822468082, ('B00EZPXYP4', 'B00MYXTCNC'): 0.016798695289284158, ('B00CTTEKJW', 'B00AM9YXTS'): 0.1027950590233772, ('B00EZPXYP4', 'B00MYXTCGY'): 0.08272449247783199, ('B00CTTEKJW', 'B015724RQI'): 0.03223679673856472, ('B00EZPXYP4', 'B00EZQYC8G'): 0.027037724202135793, ('B00EZPXYP4', 'B015724RQI'): 0.0395537043778806}\n"
     ]
    }
   ],
   "source": [
    "def reduce_sim(x,y):\n",
    "    sim_productx, mod1, mod2, countx, simx = x\n",
    "    sim_producty, mod1, mod2, county, simy = y\n",
    "    \n",
    "    sim_product = sim_productx + sim_producty\n",
    "    count = countx + county\n",
    "    sim = 1\n",
    "    \n",
    "    return (sim_product, mod1, mod2, count, sim)\n",
    "\n",
    "def calculate_sim(x):\n",
    "    item1, item2 = x[0]\n",
    "    sim_product, mod1, mod2, count, sim = x[1]\n",
    "    \n",
    "    if mod1 == 0 or mod2 == 0:\n",
    "        return None\n",
    "    \n",
    "    sim = sim_product / (mod1 * mod2) \n",
    "    \n",
    "    if count >= 2 and sim > 0:\n",
    "        return (item1, (item2, sim))\n",
    "    else:\n",
    "        return None\n",
    "    \n",
    "sim_matrix = tup.reduceByKey(lambda x,y: reduce_sim(x,y)).map(lambda x: calculate_sim(x))\\\n",
    "                .filter(lambda x: x != None).groupByKey()\\\n",
    "                .map(lambda x: (x[0], sorted(list(x[1]), key = lambda x: x[1], reverse=True)[:50]))\\\n",
    "                .flatMapValues(lambda x: x).map(lambda x: ((x[0],x[1][0]), x[1][1])).collectAsMap()\n",
    "\n",
    "print(len(sim_matrix))\n",
    "print(sim_matrix)\n",
    "sim_matrix = sc.broadcast(sim_matrix)    "
   ]
  },
  {
   "cell_type": "code",
   "execution_count": 11,
   "metadata": {},
   "outputs": [
    {
     "ename": "TypeError",
     "evalue": "object of type 'Broadcast' has no len()",
     "output_type": "error",
     "traceback": [
      "\u001b[0;31m---------------------------------------------------------------------------\u001b[0m",
      "\u001b[0;31mTypeError\u001b[0m                                 Traceback (most recent call last)",
      "\u001b[0;32m<ipython-input-11-99ca12e80403>\u001b[0m in \u001b[0;36m<module>\u001b[0;34m\u001b[0m\n\u001b[0;32m----> 1\u001b[0;31m \u001b[0mlen\u001b[0m\u001b[0;34m(\u001b[0m\u001b[0msim_matrix\u001b[0m\u001b[0;34m)\u001b[0m\u001b[0;34m\u001b[0m\u001b[0m\n\u001b[0m",
      "\u001b[0;31mTypeError\u001b[0m: object of type 'Broadcast' has no len()"
     ]
    }
   ],
   "source": [
    "len(sim_matrix)"
   ]
  },
  {
   "cell_type": "code",
   "execution_count": 58,
   "metadata": {},
   "outputs": [],
   "source": [
    "sim_matrix = c.reduceByKey(lambda x,y: reduce_sim(x,y)).map(lambda x: calculate_sim(x))\\\n",
    "                .filter(lambda x: x != None).groupByKey()\\\n",
    "                .map(lambda x: (x[0], sorted(list(x[1]), key = lambda x: x[1], reverse=True)[:50]))\\\n",
    "                .flatMapValues(lambda x: x).map(lambda x: ((x[0],x[1][0]), x[1][1])).collectAsMap()\n",
    "sim_matrix = sc.broadcast(sim_matrix)"
   ]
  },
  {
   "cell_type": "code",
   "execution_count": null,
   "metadata": {},
   "outputs": [],
   "source": []
  },
  {
   "cell_type": "code",
   "execution_count": null,
   "metadata": {},
   "outputs": [],
   "source": []
  },
  {
   "cell_type": "code",
   "execution_count": null,
   "metadata": {},
   "outputs": [],
   "source": []
  },
  {
   "cell_type": "code",
   "execution_count": null,
   "metadata": {},
   "outputs": [],
   "source": []
  },
  {
   "cell_type": "code",
   "execution_count": 13,
   "metadata": {},
   "outputs": [],
   "source": [
    "def normalize_vector(v):\n",
    "    item = v[0]\n",
    "    users = v[1]    \n",
    "    mean_rating = sum(map(lambda x: x[1], users)) / len(users)\n",
    "    normalized_vector = list(map(lambda x: (x[0], x[1] - mean_rating), users))\n",
    "    vector_mod = math.sqrt(sum(map(lambda x: x[1]**2, normalized_vector)))\n",
    "    return (item, normalized_vector)"
   ]
  },
  {
   "cell_type": "code",
   "execution_count": 14,
   "metadata": {},
   "outputs": [],
   "source": [
    "normalized_cross_product = cross_product.map(lambda x: ((normalize_vector(x[0]),\\\n",
    "                                                        (normalize_vector(x[1])))))"
   ]
  },
  {
   "cell_type": "code",
   "execution_count": 1,
   "metadata": {},
   "outputs": [],
   "source": [
    "# cross_product.filter(lambda x: \"B00EZPXYP4\" == x[0][0] and \"B00MYXTCGY\" == x[1][0]).collect()\n",
    "# #  (\"B00CTTEKJW\",\"B000050ZRE\") == (x[0][0],x[1][1])).take(10)"
   ]
  },
  {
   "cell_type": "code",
   "execution_count": null,
   "metadata": {},
   "outputs": [],
   "source": []
  },
  {
   "cell_type": "code",
   "execution_count": 2,
   "metadata": {},
   "outputs": [],
   "source": [
    "# normalized_cross_product.take(2)\n",
    "# AEQYAG42F9128, (B00EZPXYP4,0,77), AEQYAG42F9128, (B00EZPXVWU, 0.75)\n",
    "# AEQYAG42F9128, (B00EZPXVWU, 0.75)"
   ]
  },
  {
   "cell_type": "code",
   "execution_count": 3,
   "metadata": {},
   "outputs": [],
   "source": [
    "# def calculate_similarity(v):\n",
    "#     result = []\n",
    "#     for vec in n_recommend_vectors.value:\n",
    "#         item1 = vec[0]\n",
    "#         item2 = v[0]\n",
    "\n",
    "#         if item1 == item2:\n",
    "#             continue\n",
    "\n",
    "#         v1 = vec[1]\n",
    "#         v1_mod = math.sqrt(sum(map(lambda x: x[1]**2, v1)))\n",
    "#         v2 = v[1]\n",
    "#         v2_mod = math.sqrt(sum(map(lambda x: x[1]**2, v2)))\n",
    "        \n",
    "#         if v1_mod == 0 or v2_mod == 0:\n",
    "#             continue\n",
    "        \n",
    "#         addn = 0\n",
    "#         count = 0\n",
    "#         for val1 in v1:\n",
    "#             for val2 in v2:\n",
    "#                 if val1[0] == val2[0]:\n",
    "#                     addn += val1[1] * val2[1]\n",
    "#                     count += 1\n",
    "#         addn = addn / (v1_mod * v2_mod)\n",
    "#         if count >= 2 and addn > 0:\n",
    "#             result.append((item1, (item2, addn)))\n",
    "#     return result"
   ]
  },
  {
   "cell_type": "code",
   "execution_count": 68,
   "metadata": {},
   "outputs": [],
   "source": [
    "def get_recommended_rows(user_vector):\n",
    "    # Output -> (item, user), (sim * uti, sim)\n",
    "    user = user_vector[0]\n",
    "    items = user_vector[1]\n",
    "    item_dict = {item[0] : item[1] for item in items}\n",
    "    \n",
    "    result = []\n",
    "    for vec in products_to_recommend.value:\n",
    "        vec_item = vec\n",
    "#         vec_users = vec[1]\n",
    "\n",
    "        if vec_item in item_dict:\n",
    "            result.append(((vec_item, user), item_dict[vec_item]))\n",
    "            continue\n",
    "\n",
    "        sum_sim_uti = 0\n",
    "        sum_sim = 0\n",
    "        count = 0\n",
    "        for user_item in items:\n",
    "            user_item_id = user_item[0]\n",
    "            rating = user_item[1]\n",
    "\n",
    "            if (vec_item, user_item_id) in sim_matrix.value:\n",
    "                sum_sim_uti += sim_matrix.value[(vec_item, user_item_id)] * rating\n",
    "                sum_sim +=  sim_matrix.value[(vec_item, user_item_id)]\n",
    "                count += 1 \n",
    "        \n",
    "        if count >= 2:\n",
    "            uti = sum_sim_uti / sum_sim\n",
    "            result.append(((vec_item, user), uti))\n",
    "    return result"
   ]
  },
  {
   "cell_type": "code",
   "execution_count": 64,
   "metadata": {},
   "outputs": [],
   "source": [
    "def get_recommended_rows_new(vec, user_vector):\n",
    "    # Output -> (item, user), (sim * uti, sim)\n",
    "    user = user_vector[0]\n",
    "    items = user_vector[1]\n",
    "    item_dict = {item[0] : item[1] for item in items}\n",
    "    \n",
    "    result = None\n",
    "\n",
    "    vec_item = vec\n",
    "#     vec_users = vec[1]\n",
    "\n",
    "    if vec_item in item_dict:\n",
    "        return ((vec_item, user), item_dict[vec_item])\n",
    "\n",
    "    sum_sim_uti = 0\n",
    "    sum_sim = 0\n",
    "    count = 0\n",
    "    for user_item in items:\n",
    "        user_item_id = user_item[0]\n",
    "        rating = user_item[1]\n",
    "\n",
    "        if (vec_item, user_item_id) in sim_matrix.value:\n",
    "            sum_sim_uti += sim_matrix.value[(vec_item, user_item_id)] * rating\n",
    "            sum_sim +=  sim_matrix.value[(vec_item, user_item_id)]\n",
    "            count += 1 \n",
    "\n",
    "    if count >= 2:\n",
    "        uti = sum_sim_uti / sum_sim\n",
    "        result = ((vec_item, user), uti)\n",
    "    return result"
   ]
  },
  {
   "cell_type": "code",
   "execution_count": 42,
   "metadata": {},
   "outputs": [
    {
     "data": {
      "text/plain": [
       "[('A225G2TFM76GYX', <pyspark.resultiterable.ResultIterable at 0x7fc374e4f518>)]"
      ]
     },
     "execution_count": 42,
     "metadata": {},
     "output_type": "execute_result"
    }
   ],
   "source": [
    "# recommended_rows = utility_matrix.flatMapValues(lambda x: x)\n",
    "# recommended_rows.take(1)\n",
    "# recommended_rows = recommended_rows.map(lambda x: (x[1][0], (x[0], x[1][1])))\n",
    "# recommended_rows.take(1)\n",
    "# recommended_rows = recommended_rows.groupByKey()\n",
    "# recommended_rows.take(1)\n",
    "# Output -> [(User, [Items]) x no. of unique users] -> Replace with persist"
   ]
  },
  {
   "cell_type": "code",
   "execution_count": null,
   "metadata": {},
   "outputs": [],
   "source": []
  },
  {
   "cell_type": "code",
   "execution_count": null,
   "metadata": {},
   "outputs": [],
   "source": []
  },
  {
   "cell_type": "code",
   "execution_count": 72,
   "metadata": {},
   "outputs": [
    {
     "data": {
      "text/plain": [
       "[('A1NA2JGI3GNDN2', ('B00EZPXVWU', 3.0))]"
      ]
     },
     "execution_count": 72,
     "metadata": {},
     "output_type": "execute_result"
    }
   ],
   "source": [
    "recommended_rows = utility_matrix.flatMapValues(lambda x: x)\n",
    "recommended_rows.take(1)\n",
    "recommended_rows = recommended_rows.map(lambda x: (x[1][0], (x[0], x[1][1])))\n",
    "recommended_rows.take(1)\n",
    "# recommended_rows = recommended_rows.groupByKey()\n",
    "# recommended_rows.take(1)\n",
    "\n",
    "# recommend_vectors = utility_matrix.filter(lambda x: x[0] in products_to_recommend.value).collect()\n",
    "# recommend_vectors = sc.parallelize(products_to_recommend.value)\n",
    "# recommend_vectors = sc.broadcast(recommend_vectors)\n",
    "# print(recommend_vectors.value)\n",
    "# recommended_rows = recommended_rows.flatMap(lambda x: get_recommended_rows(x))\n",
    "# recommended_rows.collect()"
   ]
  },
  {
   "cell_type": "code",
   "execution_count": 21,
   "metadata": {},
   "outputs": [
    {
     "data": {
      "text/plain": [
       "[(('B00EZPXYP4', 'A1X1CEGHTHMBL1'), 4.510726757405613),\n",
       " (('B00EZPXYP4', 'A2P6QCZWW3H1X6'), 2.0)]"
      ]
     },
     "execution_count": 21,
     "metadata": {},
     "output_type": "execute_result"
    }
   ],
   "source": [
    "recommended_rows.take(2)"
   ]
  },
  {
   "cell_type": "code",
   "execution_count": 65,
   "metadata": {},
   "outputs": [
    {
     "data": {
      "text/plain": [
       "[('B00EZPXYP4',\n",
       "  ('A225G2TFM76GYX',\n",
       "   <pyspark.resultiterable.ResultIterable at 0x7fc374ecbd30>)),\n",
       " ('B00EZPXYP4',\n",
       "  ('A1X1CEGHTHMBL1',\n",
       "   <pyspark.resultiterable.ResultIterable at 0x7fc374ecb278>))]"
      ]
     },
     "execution_count": 65,
     "metadata": {},
     "output_type": "execute_result"
    }
   ],
   "source": [
    "recommended_rows = utility_matrix.flatMapValues(lambda x: x)\n",
    "recommended_rows = recommended_rows.map(lambda x: (x[1][0], (x[0], x[1][1])))\n",
    "recommended_rows = recommended_rows.groupByKey()\n",
    "\n",
    "# y = utility_matrix.filter(lambda x: x[0] in products_to_recommend.value)\n",
    "y = sc.parallelize(products_to_recommend.value)\n",
    "z = y.cartesian(recommended_rows)\n",
    "z.take(2)"
   ]
  },
  {
   "cell_type": "code",
   "execution_count": 67,
   "metadata": {},
   "outputs": [
    {
     "data": {
      "text/plain": [
       "[(('B00EZPXYP4', 'A1X1CEGHTHMBL1'), 4.510726757405613),\n",
       " (('B00EZPXYP4', 'A2P6QCZWW3H1X6'), 2.0),\n",
       " (('B00EZPXYP4', 'AXGLPF6X39874'), 5.0),\n",
       " (('B00EZPXYP4', 'A2IX2PCXS5O2FK'), 3.1175321006069185),\n",
       " (('B00EZPXYP4', 'A2WYTI7RYF2A29'), 4.0),\n",
       " (('B00EZPXYP4', 'A3OKJR8V2MR3Z9'), 5.0),\n",
       " (('B00EZPXYP4', 'A1DPOEBIUY9IVI'), 4.0),\n",
       " (('B00EZPXYP4', 'A1Z2IWNP7IHKCC'), 4.360620376244676),\n",
       " (('B00EZPXYP4', 'A3OKH5G69MS8D9'), 3.9268673178460753),\n",
       " (('B00EZPXYP4', 'A2MJ03J7EHVSCI'), 1.0),\n",
       " (('B00EZPXYP4', 'A38OWWKAEJ15AI'), 3.520536636532493),\n",
       " (('B00EZPXYP4', 'A1QT6PHXDA5XDF'), 5.0),\n",
       " (('B00EZPXYP4', 'A2SQZL4FSRTKA6'), 5.0),\n",
       " (('B00EZPXYP4', 'A32GW1R9MW0XOH'), 4.184709749331774),\n",
       " (('B00EZPXYP4', 'A3H1L8J408EMXK'), 3.246873540733476),\n",
       " (('B00EZPXYP4', 'A3RVDXHXWXI6K4'), 5.0),\n",
       " (('B00EZPXYP4', 'A28HBQ7BP70VGL'), 5.0),\n",
       " (('B00EZPXYP4', 'A31N0XY2UTB25C'), 4.0),\n",
       " (('B00EZPXYP4', 'A3935GZFLPU28D'), 3.0),\n",
       " (('B00EZPXYP4', 'A2TXR85WQLE32N'), 3.0587660503034595),\n",
       " (('B00EZPXYP4', 'A1GGXJZOI5GEAQ'), 5.0),\n",
       " (('B00EZPXYP4', 'A3D2VIUT2HWP0Z'), 3.8569262264095094),\n",
       " (('B00EZPXYP4', 'ARWKXFSG5DAFK'), 5.0),\n",
       " (('B00EZPXYP4', 'A327HI0M9QL7JR'), 5.0),\n",
       " (('B00EZPXYP4', 'A1HUYT9E1Z2E6F'), 4.298192746094563),\n",
       " (('B00EZPXYP4', 'A11KZ906QD08C5'), 4.321538767842426),\n",
       " (('B00EZPXYP4', 'AEZJTA4KDIWY8'), 4.0),\n",
       " (('B00EZPXYP4', 'A282Q8NF63SZ97'), 5.0),\n",
       " (('B00EZPXYP4', 'A10Q2ZCYPEVHCU'), 5.0),\n",
       " (('B00EZPXYP4', 'ABVYGB2TKBO8F'), 4.0),\n",
       " (('B00EZPXYP4', 'A37SGUQGIDFOKK'), 5.0),\n",
       " (('B00EZPXYP4', 'A3W4D8XOGLWUN5'), 2.945647022673759),\n",
       " (('B00EZPXYP4', 'A1T1YSCDW0PD25'), 3.4421650360960374),\n",
       " (('B00EZPXYP4', 'A1LQ1MQNS5GKRQ'), 4.2132962903183975),\n",
       " (('B00EZPXYP4', 'A1N9OA03PECA38'), 5.0),\n",
       " (('B00EZPXYP4', 'A31WL2DMXTR6SV'), 4.772698816529593),\n",
       " (('B00EZPXYP4', 'AY9QAUOWTW86Y'), 4.85448560600304),\n",
       " (('B00EZPXYP4', 'A1PKJZRM97ELT8'), 3.0),\n",
       " (('B00EZPXYP4', 'A21YKKGDHH4YAL'), 4.355596196747191),\n",
       " (('B00EZPXYP4', 'AFIHZGX5DMIXS'), 3.5293830251517297),\n",
       " (('B00EZPXYP4', 'A1CHOUPK2ZXJ42'), 5.0),\n",
       " (('B00EZPXYP4', 'A19QMWXXUUTA9I'), 3.031258364483612),\n",
       " (('B00EZPXYP4', 'A3CW0ZLUO5X2B1'), 4.691879124548618),\n",
       " (('B00EZPXYP4', 'A3OPKL03NFOSZJ'), 1.0),\n",
       " (('B00EZPXYP4', 'A30OI8J3O6OSCZ'), 5.0),\n",
       " (('B00EZPXYP4', 'AHSUG8320RZVR'), 5.0),\n",
       " (('B00EZPXYP4', 'A2QK6CWANYGXTB'), 5.000000000000001),\n",
       " (('B00EZPXYP4', 'A2A187H32FTQNH'), 3.068708443935887),\n",
       " (('B00EZPXYP4', 'A6IVWNRAEYIOW'), 1.2948156060752782),\n",
       " (('B00EZPXYP4', 'A2JW7E1UM8PT3X'), 5.0),\n",
       " (('B00EZPXYP4', 'AKN564U9C9FUA'), 3.658686103836302),\n",
       " (('B00EZPXYP4', 'A1MRPX3RM48T2I'), 2.222585358089001),\n",
       " (('B00EZPXYP4', 'AHEZP9ACDYJII'), 4.999999999999999),\n",
       " (('B00EZPXYP4', 'A23E9QQHJLNGUI'), 4.963993095292056),\n",
       " (('B00EZPXYP4', 'AZW10G02DNJI4'), 4.0),\n",
       " (('B00EZPXYP4', 'A2N2XU3U2LYUZS'), 5.0),\n",
       " (('B00EZPXYP4', 'AJRH9YA4ETWIJ'), 5.0),\n",
       " (('B00EZPXYP4', 'A2VZ43530IHTJU'), 4.850873019385791),\n",
       " (('B00EZPXYP4', 'APUHDJ6QURQIM'), 4.999999999999999),\n",
       " (('B00EZPXYP4', 'A2VD7NGNH1KPDZ'), 4.0),\n",
       " (('B00EZPXYP4', 'ALJBMBL5D28UC'), 4.144981115476581),\n",
       " (('B00EZPXYP4', 'A3J8A5L5AF5TX9'), 3.6135497659156566),\n",
       " (('B00EZPXYP4', 'AYNZW5W4PP2I1'), 3.9929226977769803),\n",
       " (('B00EZPXYP4', 'A2IAQL36OILN2S'), 5.0),\n",
       " (('B00EZPXYP4', 'A1ZVD4PMQZIQ52'), 4.999999999999999),\n",
       " (('B00EZPXYP4', 'A1NA2JGI3GNDN2'), 3.5059588312201964),\n",
       " (('B00EZPXYP4', 'A4J9TN7015EZ7'), 4.403237809931568),\n",
       " (('B00EZPXYP4', 'A36JD4TF3WHDQ5'), 5.0),\n",
       " (('B00EZPXYP4', 'A116J8AUC3JSN2'), 4.0),\n",
       " (('B00EZPXYP4', 'AQVNJVVCII62J'), 4.999999999999999),\n",
       " (('B00EZPXYP4', 'A3VHYQ0MSE35HJ'), 5.0),\n",
       " (('B00EZPXYP4', 'A1B8EJQU73YGL9'), 4.475845114662716),\n",
       " (('B00EZPXYP4', 'A1ZX9B71DGKUO2'), 5.000000000000001),\n",
       " (('B00EZPXYP4', 'AJKGD52I9DGCN'), 5.0),\n",
       " (('B00EZPXYP4', 'A1PI8VBCXXSGC7'), 4.0),\n",
       " (('B00EZPXYP4', 'A2F81U787R2BZD'), 1.0),\n",
       " (('B00EZPXYP4', 'A2KYC21WDNY5L'), 4.0),\n",
       " (('B00EZPXYP4', 'A3C2O6SS4ITQHC'), 5.0),\n",
       " (('B00EZPXYP4', 'A1W476YCP7DZ2S'), 5.0),\n",
       " (('B00EZPXYP4', 'AYNTULRNAIPNY'), 4.0),\n",
       " (('B00EZPXYP4', 'A1A21GIPMY89BZ'), 1.344835986751177),\n",
       " (('B00EZPXYP4', 'A3GW8HX6UB0XML'), 4.999999999999999),\n",
       " (('B00EZPXYP4', 'A2MKY8OUI8GZG1'), 1.0),\n",
       " (('B00EZPXYP4', 'A1AIKETKYWVID9'), 2.5821252391408764),\n",
       " (('B00EZPXYP4', 'A9P4Q7KX35RS2'), 4.983670412911532),\n",
       " (('B00EZPXYP4', 'ANGGNFE8DXGYC'), 4.9046109703657494),\n",
       " (('B00EZPXYP4', 'A3QIQLPZGYQ3AJ'), 5.0),\n",
       " (('B00EZPXYP4', 'A1RQEPTX8DUAPK'), 5.0),\n",
       " (('B00EZPXYP4', 'A2KIZOKNM0A1JG'), 4.0),\n",
       " (('B00EZPXYP4', 'A1ZKCYRTQWE67F'), 5.000000000000001),\n",
       " (('B00EZPXYP4', 'AEQYAG42F9128'), 5.0),\n",
       " (('B00EZPXYP4', 'A1V3PCKVCJ3TTZ'), 4.785523753119998),\n",
       " (('B00EZPXYP4', 'A1BL7D7OGIVB6B'), 5.0),\n",
       " (('B00EZPXYP4', 'AYKFN6Z2Q457S'), 4.0),\n",
       " (('B00EZPXYP4', 'A1ISULY59G6JB4'), 5.0),\n",
       " (('B00EZPXYP4', 'AUEUB778AU7MW'), 4.0),\n",
       " (('B00EZPXYP4', 'A2WCFDOCS73PNB'), 5.0),\n",
       " (('B00EZPXYP4', 'A2HIY3RMCFY2IR'), 3.0),\n",
       " (('B00EZPXYP4', 'A2FE6DT9WVMQA3'), 5.0),\n",
       " (('B00EZPXYP4', 'A1U1G73EI5IRZF'), 5.0),\n",
       " (('B00EZPXYP4', 'A12DQZKRKTNF5E'), 3.152021515374928),\n",
       " (('B00CTTEKJW', 'A3OKJR8V2MR3Z9'), 3.758221885310636),\n",
       " (('B00CTTEKJW', 'A13EQE9EY2ET93'), 3.0000000000000004),\n",
       " (('B00CTTEKJW', 'A3OKH5G69MS8D9'), 3.460843667151361),\n",
       " (('B00CTTEKJW', 'A3LDLV1GWQJLEQ'), 4.0),\n",
       " (('B00CTTEKJW', 'A31N0XY2UTB25C'), 4.0),\n",
       " (('B00CTTEKJW', 'A3935GZFLPU28D'), 3.5052688230855042),\n",
       " (('B00CTTEKJW', 'A216Z266WSNL4S'), 5.0),\n",
       " (('B00CTTEKJW', 'ARWKXFSG5DAFK'), 5.0),\n",
       " (('B00CTTEKJW', 'A327HI0M9QL7JR'), 5.0),\n",
       " (('B00CTTEKJW', 'A1HUYT9E1Z2E6F'), 4.030252144899244),\n",
       " (('B00CTTEKJW', 'A11KZ906QD08C5'), 5.0),\n",
       " (('B00CTTEKJW', 'AEZJTA4KDIWY8'), 4.0),\n",
       " (('B00CTTEKJW', 'A37SGUQGIDFOKK'), 5.0),\n",
       " (('B00CTTEKJW', 'A3W4D8XOGLWUN5'), 3.0),\n",
       " (('B00CTTEKJW', 'A1PKJZRM97ELT8'), 2.9128566305476187),\n",
       " (('B00CTTEKJW', 'A19QMWXXUUTA9I'), 1.0),\n",
       " (('B00CTTEKJW', 'A3CW0ZLUO5X2B1'), 3.9032842074249805),\n",
       " (('B00CTTEKJW', 'A3OPKL03NFOSZJ'), 1.0),\n",
       " (('B00CTTEKJW', 'A30OI8J3O6OSCZ'), 3.992956373377197),\n",
       " (('B00CTTEKJW', 'AKN564U9C9FUA'), 3.0),\n",
       " (('B00CTTEKJW', 'A1MRPX3RM48T2I'), 2.0),\n",
       " (('B00CTTEKJW', 'A23E9QQHJLNGUI'), 5.0),\n",
       " (('B00CTTEKJW', 'AJRH9YA4ETWIJ'), 5.0),\n",
       " (('B00CTTEKJW', 'A2VZ43530IHTJU'), 5.0),\n",
       " (('B00CTTEKJW', 'APUHDJ6QURQIM'), 5.0),\n",
       " (('B00CTTEKJW', 'A2VD7NGNH1KPDZ'), 4.0),\n",
       " (('B00CTTEKJW', 'A2IAQL36OILN2S'), 5.0),\n",
       " (('B00CTTEKJW', 'AQVNJVVCII62J'), 5.0),\n",
       " (('B00CTTEKJW', 'A3VHYQ0MSE35HJ'), 3.758221885310636),\n",
       " (('B00CTTEKJW', 'AJKGD52I9DGCN'), 5.0),\n",
       " (('B00CTTEKJW', 'A2F81U787R2BZD'), 1.0),\n",
       " (('B00CTTEKJW', 'A2KYC21WDNY5L'), 4.0),\n",
       " (('B00CTTEKJW', 'A1W476YCP7DZ2S'), 4.747365588457248),\n",
       " (('B00CTTEKJW', 'A1A21GIPMY89BZ'), 1.0),\n",
       " (('B00CTTEKJW', 'A2MKY8OUI8GZG1'), 1.0),\n",
       " (('B00CTTEKJW', 'A9P4Q7KX35RS2'), 5.0),\n",
       " (('B00CTTEKJW', 'ANGGNFE8DXGYC'), 5.0),\n",
       " (('B00CTTEKJW', 'A3QIQLPZGYQ3AJ'), 5.0),\n",
       " (('B00CTTEKJW', 'AEQYAG42F9128'), 5.0),\n",
       " (('B00CTTEKJW', 'A20DZX38KRBIT8'), 1.0),\n",
       " (('B00CTTEKJW', 'A2FE6DT9WVMQA3'), 5.0),\n",
       " (('B00CTTEKJW', 'A1U1G73EI5IRZF'), 4.09477421439654),\n",
       " (('B00CTTEKJW', 'A12DQZKRKTNF5E'), 5.0)]"
      ]
     },
     "execution_count": 67,
     "metadata": {},
     "output_type": "execute_result"
    }
   ],
   "source": [
    "z.map(lambda x: get_recommended_rows_new(x[0],x[1])).filter(lambda x: x!=None).collect()"
   ]
  },
  {
   "cell_type": "code",
   "execution_count": 23,
   "metadata": {},
   "outputs": [
    {
     "data": {
      "text/plain": [
       "144"
      ]
     },
     "execution_count": 23,
     "metadata": {},
     "output_type": "execute_result"
    }
   ],
   "source": [
    "# len(recommended_rows.collect())"
   ]
  },
  {
   "cell_type": "code",
   "execution_count": null,
   "metadata": {},
   "outputs": [],
   "source": []
  }
 ],
 "metadata": {
  "kernelspec": {
   "display_name": "bda1",
   "language": "python",
   "name": "bda1"
  },
  "language_info": {
   "codemirror_mode": {
    "name": "ipython",
    "version": 3
   },
   "file_extension": ".py",
   "mimetype": "text/x-python",
   "name": "python",
   "nbconvert_exporter": "python",
   "pygments_lexer": "ipython3",
   "version": "3.5.2"
  }
 },
 "nbformat": 4,
 "nbformat_minor": 2
}
